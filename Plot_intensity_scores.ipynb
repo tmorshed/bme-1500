{
 "cells": [
  {
   "cell_type": "code",
   "execution_count": null,
   "id": "75553151",
   "metadata": {},
   "outputs": [],
   "source": [
    "import mne, fooof, numpy as np, pandas as pd, os, glob, sys\n",
    "from IPython.display import display, Markdown\n",
    "from tqdm import tqdm, trange\n",
    "import matplotlib.pyplot as plt"
   ]
  },
  {
   "cell_type": "code",
   "execution_count": null,
   "id": "044b5223",
   "metadata": {},
   "outputs": [],
   "source": [
    "datapath = \"/nethome/kcni/moveisi/lab/repos/bme1500/po_scratch/data/bme1500_eeg_data\"\n",
    "os.chdir(datapath)"
   ]
  },
  {
   "cell_type": "code",
   "execution_count": null,
   "id": "ef7abf3b",
   "metadata": {},
   "outputs": [],
   "source": [
    "def finder():\n",
    "    filesDepth5 = glob.glob('*/*/*/*/*')\n",
    "    dirsDepth5 = filter(lambda f: os.path.isdir(f), filesDepth5)\n",
    "\n",
    "    markers=np.sort(np.array([os.path.join(datapath, f) for f in filesDepth5 if f.endswith('.pkl')]))\n",
    "    npzs=np.sort(np.array([os.path.join(datapath, f) for f in filesDepth5 if f.endswith('.npz')]))\n",
    "    return markers, npzs"
   ]
  },
  {
   "cell_type": "code",
   "execution_count": null,
   "id": "5eedc253",
   "metadata": {},
   "outputs": [],
   "source": [
    "markers, npzs = finder()"
   ]
  },
  {
   "cell_type": "code",
   "execution_count": null,
   "id": "c394b9df",
   "metadata": {},
   "outputs": [],
   "source": [
    "word_array = np.array(['/0/', '/1/','/15/','/16/', '/2/','/20/','/21/','/22/','/23/','/25/','/26/', '/27/','/28/','/3/','/5/','/6/'])\n",
    "score_list = []\n",
    "intensity_list = []\n",
    "subjectID = []\n",
    "for c in range(0,len(word_array)):\n",
    "    score = []\n",
    "    intensity = []\n",
    "    print(word_array[c])\n",
    "    for t in range (0,len(markers)):\n",
    "        line = markers[t]\n",
    "        if word_array[c] in line:\n",
    "            _marker=pd.read_pickle(markers[t])\n",
    "            score.append(_marker['clinScore'])\n",
    "            intensity.append(_marker['stimInt'])\n",
    "    score_list.append(score)\n",
    "    intensity_list.append(intensity)\n",
    "    subjectID.append(word_array[c])"
   ]
  },
  {
   "cell_type": "code",
   "execution_count": null,
   "id": "db2c56be",
   "metadata": {},
   "outputs": [],
   "source": [
    "num_patient = len(intensity_list)\n",
    "final_intensity =  [[] for _ in range(num_patient)]\n",
    "final_score = [[] for _ in range(num_patient)]\n",
    "for j in range(0,num_patient):\n",
    "    for pos,i in enumerate(intensity_list[j]):\n",
    "        arr = np.array(intensity_list[j])\n",
    "        res = np.where(arr==i)[0]\n",
    "        if len(res)==1:\n",
    "            final_intensity[j].append(i)\n",
    "            final_score[j].append(score_list[j][pos])\n",
    "        else:\n",
    "            exist = final_intensity[j].count(i)\n",
    "            if exist == 0:\n",
    "                temp = []\n",
    "                for k in res:\n",
    "                    temp.append(score_list[j][k])\n",
    "                final_score[j].append(mean(temp))\n",
    "                final_intensity[j].append(i)"
   ]
  },
  {
   "cell_type": "code",
   "execution_count": null,
   "id": "5f248329",
   "metadata": {},
   "outputs": [],
   "source": [
    "plt.figure(figsize=(20,10), dpi=300)\n",
    "plt.rcParams[\"figure.figsize\"] = (20,10)\n",
    "for i in range(0,num_patient):\n",
    "    plt.subplot(4,4,i+1)\n",
    "    plt.scatter(final_intensity[i],final_score[i])\n",
    "    s = subjectID[i]\n",
    "    value = (s[s.find(start)+len(start):s.rfind(end)])\n",
    "    plt.title('Subject ID: %s' %value)\n",
    "    plt.ylabel('Score')\n",
    "    plt.xlabel('Intensity')\n",
    "      \n",
    "plt.tight_layout()\n",
    "plt.savefig('test.png')"
   ]
  }
 ],
 "metadata": {
  "kernelspec": {
   "display_name": "Python 3 (ipykernel)",
   "language": "python",
   "name": "python3"
  },
  "language_info": {
   "codemirror_mode": {
    "name": "ipython",
    "version": 3
   },
   "file_extension": ".py",
   "mimetype": "text/x-python",
   "name": "python",
   "nbconvert_exporter": "python",
   "pygments_lexer": "ipython3",
   "version": "3.9.7"
  }
 },
 "nbformat": 4,
 "nbformat_minor": 5
}
